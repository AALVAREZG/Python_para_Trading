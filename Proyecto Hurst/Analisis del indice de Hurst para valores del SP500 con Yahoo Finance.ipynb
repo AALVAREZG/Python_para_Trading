{
 "cells": [
  {
   "cell_type": "markdown",
   "metadata": {
    "collapsed": false
   },
   "source": [
    "## Proyecto Hurst - Notebook 2\n",
    "\n",
    "# Analisis del exponente de Hurst sobre los valores del SP500\n"
   ]
  },
  {
   "cell_type": "markdown",
   "metadata": {},
   "source": [
    "En este notebook veremos el uso de Python para descargar el histórico de cotización diaria de valores del SP500.\n",
    "\n",
    "Sobre estos datos realizaremos un calculo complejo como es el exponente de Hurst y en base a los resultados seleccionaremos una muestra de activos con series temporales persistentes o tendenciales."
   ]
  },
  {
   "cell_type": "markdown",
   "metadata": {},
   "source": [
    "---"
   ]
  },
  {
   "cell_type": "markdown",
   "metadata": {},
   "source": [
    "## Obtención de las cotizaciones históricas de los valores del SP500"
   ]
  },
  {
   "cell_type": "markdown",
   "metadata": {},
   "source": [
    "Para comenzar vamos a obtener la lista de los ticker de los valores del SP500. Para ello usaremos el modulo de Python **finsymbols**, que importaremos en primer lugar."
   ]
  },
  {
   "cell_type": "code",
   "execution_count": 1,
   "metadata": {
    "collapsed": true
   },
   "outputs": [],
   "source": [
    "import finsymbols"
   ]
  },
  {
   "cell_type": "markdown",
   "metadata": {},
   "source": [
    "Con este modulo podemos obtener los datos de los valores que componen el SP500."
   ]
  },
  {
   "cell_type": "code",
   "execution_count": 2,
   "metadata": {
    "collapsed": false
   },
   "outputs": [
    {
     "name": "stdout",
     "output_type": "stream",
     "text": [
      "Número de valores : 505\n"
     ]
    }
   ],
   "source": [
    "sp500 = finsymbols.symbols.get_sp500_symbols()\n",
    "print ('Número de valores : {}'.format(len(sp500))) #comprobamos su longitud, el número de valores."
   ]
  },
  {
   "cell_type": "markdown",
   "metadata": {},
   "source": [
    "Veamos los cinco primeros valores."
   ]
  },
  {
   "cell_type": "code",
   "execution_count": 3,
   "metadata": {
    "collapsed": false
   },
   "outputs": [
    {
     "data": {
      "text/plain": [
       "[{'company': '3M Company',\n",
       "  'headquarters': 'St. Paul, Minnesota',\n",
       "  'industry': 'Industrial Conglomerates',\n",
       "  'sector': 'Industrials',\n",
       "  'symbol': 'MMM'},\n",
       " {'company': 'Abbott Laboratories',\n",
       "  'headquarters': 'North Chicago, Illinois',\n",
       "  'industry': 'Health Care Equipment',\n",
       "  'sector': 'Health Care',\n",
       "  'symbol': 'ABT'},\n",
       " {'company': 'AbbVie Inc.',\n",
       "  'headquarters': 'North Chicago, Illinois',\n",
       "  'industry': 'Pharmaceuticals',\n",
       "  'sector': 'Health Care',\n",
       "  'symbol': 'ABBV'},\n",
       " {'company': 'ABIOMED Inc',\n",
       "  'headquarters': 'Danvers, Massachusetts',\n",
       "  'industry': 'Health Care Equipment',\n",
       "  'sector': 'Health Care',\n",
       "  'symbol': 'ABMD'},\n",
       " {'company': 'Accenture plc',\n",
       "  'headquarters': 'Dublin, Ireland',\n",
       "  'industry': 'IT Consulting & Other Services',\n",
       "  'sector': 'Information Technology',\n",
       "  'symbol': 'ACN'}]"
      ]
     },
     "execution_count": 3,
     "metadata": {},
     "output_type": "execute_result"
    }
   ],
   "source": [
    "sp500[:5]"
   ]
  },
  {
   "cell_type": "markdown",
   "metadata": {},
   "source": [
    "Para descargar sus históricos diarios necesitamos solamentes sus simbolos, así que creamos una lista de los simbolos de los valoeres. \n",
    "Para comprobar listamos los 5 primeros."
   ]
  },
  {
   "cell_type": "code",
   "execution_count": 4,
   "metadata": {
    "collapsed": false,
    "scrolled": true
   },
   "outputs": [
    {
     "data": {
      "text/plain": [
       "['MMM', 'ABT', 'ABBV', 'ABMD', 'ACN']"
      ]
     },
     "execution_count": 4,
     "metadata": {},
     "output_type": "execute_result"
    }
   ],
   "source": [
    "valores_sp=[str(sp500[a]['symbol']) for a in range(len(sp500))]\n",
    "valores_sp[:5]"
   ]
  },
  {
   "cell_type": "markdown",
   "metadata": {},
   "source": [
    "Importamos el módulo **fix_yahoo_finance**, que nos permitirá descargar gratuítamente las cotizaciones desde los servidores de Yahoo Finance.\n",
    "\n",
    "Utilizamos este modulo para descargar nuestra lista de valores pasando las fechas del intervalo que queremos descargar.\n",
    "La descargará tomará su tiempo ya que son mas de 500 en un periodo muy largo y se hace mediante un scrap de la web de Yahoo Finanzas (antes de que Yahoo decidiera descontinuar su API era mas rapido)."
   ]
  },
  {
   "cell_type": "code",
   "execution_count": 5,
   "metadata": {
    "collapsed": true
   },
   "outputs": [],
   "source": [
    "import fix_yahoo_finance as yf"
   ]
  },
  {
   "cell_type": "code",
   "execution_count": 6,
   "metadata": {
    "collapsed": false
   },
   "outputs": [
    {
     "name": "stdout",
     "output_type": "stream",
     "text": [
      "[*********************100%***********************]  505 of 505 downloaded\n"
     ]
    },
    {
     "data": {
      "text/plain": [
       "(6, 3637, 505)"
      ]
     },
     "execution_count": 6,
     "metadata": {},
     "output_type": "execute_result"
    }
   ],
   "source": [
    "data = yf.download(valores_sp, start=\"2004-01-01\", end=\"2018-06-13\")\n",
    "data.shape # Comprobamos las dimensiones del panel donde hemos almacenado las cotizaciones."
   ]
  },
  {
   "cell_type": "markdown",
   "metadata": {},
   "source": [
    "Echemos un vistazo a un valor para comprobar como se ven los datos."
   ]
  },
  {
   "cell_type": "code",
   "execution_count": 7,
   "metadata": {
    "collapsed": false,
    "scrolled": false
   },
   "outputs": [
    {
     "data": {
      "text/html": [
       "<div>\n",
       "<style scoped>\n",
       "    .dataframe tbody tr th:only-of-type {\n",
       "        vertical-align: middle;\n",
       "    }\n",
       "\n",
       "    .dataframe tbody tr th {\n",
       "        vertical-align: top;\n",
       "    }\n",
       "\n",
       "    .dataframe thead th {\n",
       "        text-align: right;\n",
       "    }\n",
       "</style>\n",
       "<table border=\"1\" class=\"dataframe\">\n",
       "  <thead>\n",
       "    <tr style=\"text-align: right;\">\n",
       "      <th></th>\n",
       "      <th>Adj Close</th>\n",
       "      <th>Close</th>\n",
       "      <th>High</th>\n",
       "      <th>Low</th>\n",
       "      <th>Open</th>\n",
       "      <th>Volume</th>\n",
       "    </tr>\n",
       "    <tr>\n",
       "      <th>Date</th>\n",
       "      <th></th>\n",
       "      <th></th>\n",
       "      <th></th>\n",
       "      <th></th>\n",
       "      <th></th>\n",
       "      <th></th>\n",
       "    </tr>\n",
       "  </thead>\n",
       "  <tbody>\n",
       "    <tr>\n",
       "      <th>2003-12-31</th>\n",
       "      <td>59.341152</td>\n",
       "      <td>85.029999</td>\n",
       "      <td>85.080002</td>\n",
       "      <td>84.400002</td>\n",
       "      <td>84.480003</td>\n",
       "      <td>1626300.0</td>\n",
       "    </tr>\n",
       "    <tr>\n",
       "      <th>2004-01-02</th>\n",
       "      <td>58.182701</td>\n",
       "      <td>83.370003</td>\n",
       "      <td>85.190002</td>\n",
       "      <td>83.110001</td>\n",
       "      <td>85.000000</td>\n",
       "      <td>2591700.0</td>\n",
       "    </tr>\n",
       "    <tr>\n",
       "      <th>2004-01-05</th>\n",
       "      <td>59.292332</td>\n",
       "      <td>84.959999</td>\n",
       "      <td>85.000000</td>\n",
       "      <td>83.320000</td>\n",
       "      <td>83.580002</td>\n",
       "      <td>2985200.0</td>\n",
       "    </tr>\n",
       "    <tr>\n",
       "      <th>2004-01-06</th>\n",
       "      <td>59.110878</td>\n",
       "      <td>84.699997</td>\n",
       "      <td>84.959999</td>\n",
       "      <td>84.400002</td>\n",
       "      <td>84.500000</td>\n",
       "      <td>2983100.0</td>\n",
       "    </tr>\n",
       "    <tr>\n",
       "      <th>2004-01-07</th>\n",
       "      <td>58.091946</td>\n",
       "      <td>83.239998</td>\n",
       "      <td>84.250000</td>\n",
       "      <td>82.699997</td>\n",
       "      <td>84.120003</td>\n",
       "      <td>4293600.0</td>\n",
       "    </tr>\n",
       "  </tbody>\n",
       "</table>\n",
       "</div>"
      ],
      "text/plain": [
       "            Adj Close      Close       High        Low       Open     Volume\n",
       "Date                                                                        \n",
       "2003-12-31  59.341152  85.029999  85.080002  84.400002  84.480003  1626300.0\n",
       "2004-01-02  58.182701  83.370003  85.190002  83.110001  85.000000  2591700.0\n",
       "2004-01-05  59.292332  84.959999  85.000000  83.320000  83.580002  2985200.0\n",
       "2004-01-06  59.110878  84.699997  84.959999  84.400002  84.500000  2983100.0\n",
       "2004-01-07  58.091946  83.239998  84.250000  82.699997  84.120003  4293600.0"
      ]
     },
     "execution_count": 7,
     "metadata": {},
     "output_type": "execute_result"
    }
   ],
   "source": [
    "data.minor_xs('MMM').head(5) # El simbolo corresponde a 3M como hemos visto antes, visualizamos los 5 primeros días."
   ]
  },
  {
   "cell_type": "code",
   "execution_count": 8,
   "metadata": {
    "collapsed": false
   },
   "outputs": [
    {
     "data": {
      "text/html": [
       "<div>\n",
       "<style scoped>\n",
       "    .dataframe tbody tr th:only-of-type {\n",
       "        vertical-align: middle;\n",
       "    }\n",
       "\n",
       "    .dataframe tbody tr th {\n",
       "        vertical-align: top;\n",
       "    }\n",
       "\n",
       "    .dataframe thead th {\n",
       "        text-align: right;\n",
       "    }\n",
       "</style>\n",
       "<table border=\"1\" class=\"dataframe\">\n",
       "  <thead>\n",
       "    <tr style=\"text-align: right;\">\n",
       "      <th></th>\n",
       "      <th>Adj Close</th>\n",
       "      <th>Close</th>\n",
       "      <th>High</th>\n",
       "      <th>Low</th>\n",
       "      <th>Open</th>\n",
       "      <th>Volume</th>\n",
       "    </tr>\n",
       "    <tr>\n",
       "      <th>Date</th>\n",
       "      <th></th>\n",
       "      <th></th>\n",
       "      <th></th>\n",
       "      <th></th>\n",
       "      <th></th>\n",
       "      <th></th>\n",
       "    </tr>\n",
       "  </thead>\n",
       "  <tbody>\n",
       "    <tr>\n",
       "      <th>2018-06-06</th>\n",
       "      <td>203.860001</td>\n",
       "      <td>203.860001</td>\n",
       "      <td>204.050003</td>\n",
       "      <td>201.550003</td>\n",
       "      <td>201.839996</td>\n",
       "      <td>2297300.0</td>\n",
       "    </tr>\n",
       "    <tr>\n",
       "      <th>2018-06-07</th>\n",
       "      <td>205.070007</td>\n",
       "      <td>205.070007</td>\n",
       "      <td>205.889999</td>\n",
       "      <td>203.759995</td>\n",
       "      <td>204.179993</td>\n",
       "      <td>2279200.0</td>\n",
       "    </tr>\n",
       "    <tr>\n",
       "      <th>2018-06-08</th>\n",
       "      <td>206.589996</td>\n",
       "      <td>206.589996</td>\n",
       "      <td>206.750000</td>\n",
       "      <td>204.410004</td>\n",
       "      <td>204.979996</td>\n",
       "      <td>2170200.0</td>\n",
       "    </tr>\n",
       "    <tr>\n",
       "      <th>2018-06-11</th>\n",
       "      <td>205.119995</td>\n",
       "      <td>205.119995</td>\n",
       "      <td>206.789993</td>\n",
       "      <td>205.000000</td>\n",
       "      <td>206.589996</td>\n",
       "      <td>2302900.0</td>\n",
       "    </tr>\n",
       "    <tr>\n",
       "      <th>2018-06-12</th>\n",
       "      <td>204.919998</td>\n",
       "      <td>204.919998</td>\n",
       "      <td>205.949997</td>\n",
       "      <td>203.949997</td>\n",
       "      <td>205.669998</td>\n",
       "      <td>1806100.0</td>\n",
       "    </tr>\n",
       "  </tbody>\n",
       "</table>\n",
       "</div>"
      ],
      "text/plain": [
       "             Adj Close       Close        High         Low        Open  \\\n",
       "Date                                                                     \n",
       "2018-06-06  203.860001  203.860001  204.050003  201.550003  201.839996   \n",
       "2018-06-07  205.070007  205.070007  205.889999  203.759995  204.179993   \n",
       "2018-06-08  206.589996  206.589996  206.750000  204.410004  204.979996   \n",
       "2018-06-11  205.119995  205.119995  206.789993  205.000000  206.589996   \n",
       "2018-06-12  204.919998  204.919998  205.949997  203.949997  205.669998   \n",
       "\n",
       "               Volume  \n",
       "Date                   \n",
       "2018-06-06  2297300.0  \n",
       "2018-06-07  2279200.0  \n",
       "2018-06-08  2170200.0  \n",
       "2018-06-11  2302900.0  \n",
       "2018-06-12  1806100.0  "
      ]
     },
     "execution_count": 8,
     "metadata": {},
     "output_type": "execute_result"
    }
   ],
   "source": [
    "data.minor_xs('MMM').tail(5) # y los últimos 5 días."
   ]
  },
  {
   "cell_type": "markdown",
   "metadata": {},
   "source": [
    "---"
   ]
  },
  {
   "cell_type": "markdown",
   "metadata": {},
   "source": [
    "## Calculo del Exponente de Hurst"
   ]
  },
  {
   "cell_type": "markdown",
   "metadata": {},
   "source": [
    "Para esta tarea necesitamos importar el módulo **numpy** que tiene potentes herramientas de cálculo matemático."
   ]
  },
  {
   "cell_type": "code",
   "execution_count": 9,
   "metadata": {
    "collapsed": true
   },
   "outputs": [],
   "source": [
    "from numpy import *"
   ]
  },
  {
   "cell_type": "markdown",
   "metadata": {},
   "source": [
    "Para calcular el exponente de Hurst vamos a definir una función que luego aplicaremos a todos los valores.\n",
    "\n",
    "Los parametros de esta función seran las series temporales de cotizaciones diarias, pero podríamos utilizarla con cualquier tipo de serie temporal.\n",
    "\n",
    "El exponente de Hurst tiene un calculo complejo, en nuestro caso usamos un ajuste mediante la función polyfit para aproximarlo. Esta basado en el creado por Ernest Chan para Mathlab, y es una versión del publicado en Quantopian para Python.\n",
    "\n",
    "Usamos los parametros del rango de las demoras que determine en el notebook anterior sobre el estudio del exponente de Hurst con datos sinteticos, en dicho estudio comprobamos que para que tenga cierta valided debemos usar muestras no menores de 2.000 valores, y preferiblemente entre 3.000 y 5.000 valores."
   ]
  },
  {
   "cell_type": "code",
   "execution_count": 10,
   "metadata": {
    "collapsed": false
   },
   "outputs": [],
   "source": [
    "import warnings; warnings.simplefilter('ignore') # Importamos el modulo warnings y desactivamos los avisos para evitar flood\n",
    "\n",
    "def hurst(ts):\n",
    "    \"\"\"Returns the Hurst Exponent of the time series vector ts\"\"\"\n",
    "    # Creamos el rango de los valores de demora\n",
    "    lags = range(10, 500)\n",
    "\n",
    "    # Calculamos la matriz de varianzas de las diferencias de las demoras\n",
    "    tau = [sqrt(std(subtract(ts[lag:], ts[:-lag]))) for lag in lags]\n",
    "\n",
    "    # Usamos un ajuste lineal para estimar el exponente de Hurst\n",
    "    poly = polyfit(log(lags), log(tau), 1)\n",
    "\n",
    "    # Devolvemos el exponente de Hurst obtenido del ajuste lineal\n",
    "    return poly[0]*2.0"
   ]
  },
  {
   "cell_type": "markdown",
   "metadata": {},
   "source": [
    "Calculamos el exponente de Hurst sobre el histórico del precio de cierre ajustado de cada valor."
   ]
  },
  {
   "cell_type": "code",
   "execution_count": 11,
   "metadata": {
    "collapsed": false,
    "scrolled": true
   },
   "outputs": [],
   "source": [
    "Hurst=[hurst(data['Adj Close'][asset].dropna()) for asset in data.minor_axis]"
   ]
  },
  {
   "cell_type": "markdown",
   "metadata": {},
   "source": [
    "Importamos el genial modulo Pandas para gestión de dataframes que nos facilitará el manejo de datos."
   ]
  },
  {
   "cell_type": "code",
   "execution_count": 12,
   "metadata": {
    "collapsed": false
   },
   "outputs": [],
   "source": [
    "import pandas as pd"
   ]
  },
  {
   "cell_type": "markdown",
   "metadata": {},
   "source": [
    "Creamos un dataframe que recoja los datos de las acciones que descargamos con finsymbols y le añadimos el exponente de Hurst calculado y el numero de datos diarios que tiene ese valor."
   ]
  },
  {
   "cell_type": "code",
   "execution_count": 13,
   "metadata": {
    "collapsed": false,
    "scrolled": false
   },
   "outputs": [
    {
     "data": {
      "text/html": [
       "<div>\n",
       "<style scoped>\n",
       "    .dataframe tbody tr th:only-of-type {\n",
       "        vertical-align: middle;\n",
       "    }\n",
       "\n",
       "    .dataframe tbody tr th {\n",
       "        vertical-align: top;\n",
       "    }\n",
       "\n",
       "    .dataframe thead th {\n",
       "        text-align: right;\n",
       "    }\n",
       "</style>\n",
       "<table border=\"1\" class=\"dataframe\">\n",
       "  <thead>\n",
       "    <tr style=\"text-align: right;\">\n",
       "      <th></th>\n",
       "      <th>company</th>\n",
       "      <th>headquarters</th>\n",
       "      <th>industry</th>\n",
       "      <th>sector</th>\n",
       "      <th>symbol</th>\n",
       "      <th>Hurst</th>\n",
       "      <th>Num datos</th>\n",
       "    </tr>\n",
       "  </thead>\n",
       "  <tbody>\n",
       "    <tr>\n",
       "      <th>14</th>\n",
       "      <td>Agilent Technologies Inc</td>\n",
       "      <td>Santa Clara, California</td>\n",
       "      <td>Health Care Equipment</td>\n",
       "      <td>Health Care</td>\n",
       "      <td>A</td>\n",
       "      <td>0.467296</td>\n",
       "      <td>3637</td>\n",
       "    </tr>\n",
       "    <tr>\n",
       "      <th>32</th>\n",
       "      <td>American Airlines Group</td>\n",
       "      <td>Fort Worth, Texas</td>\n",
       "      <td>Airlines</td>\n",
       "      <td>Industrials</td>\n",
       "      <td>AAL</td>\n",
       "      <td>0.551244</td>\n",
       "      <td>3199</td>\n",
       "    </tr>\n",
       "    <tr>\n",
       "      <th>9</th>\n",
       "      <td>Advance Auto Parts</td>\n",
       "      <td>Roanoke, Virginia</td>\n",
       "      <td>Automotive Retail</td>\n",
       "      <td>Consumer Discretionary</td>\n",
       "      <td>AAP</td>\n",
       "      <td>0.454438</td>\n",
       "      <td>3637</td>\n",
       "    </tr>\n",
       "    <tr>\n",
       "      <th>52</th>\n",
       "      <td>Apple Inc.</td>\n",
       "      <td>Cupertino, California</td>\n",
       "      <td>Technology Hardware, Storage &amp; Peripherals</td>\n",
       "      <td>Information Technology</td>\n",
       "      <td>AAPL</td>\n",
       "      <td>0.524185</td>\n",
       "      <td>3637</td>\n",
       "    </tr>\n",
       "    <tr>\n",
       "      <th>2</th>\n",
       "      <td>AbbVie Inc.</td>\n",
       "      <td>North Chicago, Illinois</td>\n",
       "      <td>Pharmaceuticals</td>\n",
       "      <td>Health Care</td>\n",
       "      <td>ABBV</td>\n",
       "      <td>0.366496</td>\n",
       "      <td>1371</td>\n",
       "    </tr>\n",
       "  </tbody>\n",
       "</table>\n",
       "</div>"
      ],
      "text/plain": [
       "                     company             headquarters  \\\n",
       "14  Agilent Technologies Inc  Santa Clara, California   \n",
       "32   American Airlines Group        Fort Worth, Texas   \n",
       "9         Advance Auto Parts        Roanoke, Virginia   \n",
       "52                Apple Inc.    Cupertino, California   \n",
       "2                AbbVie Inc.  North Chicago, Illinois   \n",
       "\n",
       "                                      industry                  sector symbol  \\\n",
       "14                       Health Care Equipment             Health Care      A   \n",
       "32                                    Airlines             Industrials    AAL   \n",
       "9                            Automotive Retail  Consumer Discretionary    AAP   \n",
       "52  Technology Hardware, Storage & Peripherals  Information Technology   AAPL   \n",
       "2                              Pharmaceuticals             Health Care   ABBV   \n",
       "\n",
       "       Hurst  Num datos  \n",
       "14  0.467296       3637  \n",
       "32  0.551244       3199  \n",
       "9   0.454438       3637  \n",
       "52  0.524185       3637  \n",
       "2   0.366496       1371  "
      ]
     },
     "execution_count": 13,
     "metadata": {},
     "output_type": "execute_result"
    }
   ],
   "source": [
    "\n",
    "df_hurst=pd.DataFrame(sp500).sort_values('symbol')\n",
    "\n",
    "df_hurst['Hurst']=Hurst\n",
    "df_hurst['Num datos']=[data['Adj Close'][asset].count() for asset in list(data.minor_axis)]\n",
    "\n",
    "df_hurst.head(5) # visualizamos los 5 primeros valores"
   ]
  },
  {
   "cell_type": "markdown",
   "metadata": {
    "collapsed": false
   },
   "source": [
    "No vamos a utilizar en este notebook mas los históricos diarios, pero por si nos son utiles para otro estudio, los guardamos en un archivo, así evitamos tener que descargarlos de nuevo."
   ]
  },
  {
   "cell_type": "code",
   "execution_count": 14,
   "metadata": {
    "collapsed": true
   },
   "outputs": [],
   "source": [
    "data. to_pickle('Valores de SP500 - cotizacion diaria.pk1')"
   ]
  },
  {
   "cell_type": "markdown",
   "metadata": {
    "collapsed": false
   },
   "source": [
    "\n",
    "---"
   ]
  },
  {
   "cell_type": "markdown",
   "metadata": {},
   "source": [
    "# Visualización gráfica de los datos obtenidos"
   ]
  },
  {
   "cell_type": "markdown",
   "metadata": {},
   "source": [
    "Importamos el modulo matplotlib y lo habilitamos para que se visalice en linea dentro del notebook."
   ]
  },
  {
   "cell_type": "code",
   "execution_count": 17,
   "metadata": {
    "collapsed": true
   },
   "outputs": [],
   "source": [
    "%matplotlib inline\n",
    "import matplotlib.pyplot as plt\n",
    "import matplotlib.pylab as pylab\n",
    "pylab.rcParams['figure.figsize'] = 26, 12 # Ajustamos el tamaño de los gráficos para que se ajusten mejor al notebook."
   ]
  },
  {
   "cell_type": "markdown",
   "metadata": {},
   "source": [
    "Generamos un grafico de barras con el exponente de Hurst de los 30 primeros valores, añadiendo el valor numérico y una linea de corte en el valor 0,50."
   ]
  },
  {
   "cell_type": "code",
   "execution_count": 18,
   "metadata": {
    "collapsed": false
   },
   "outputs": [
    {
     "data": {
      "image/png": "[encoded data removed]",
      "text/plain": [
       "<matplotlib.figure.Figure at 0x7f5543f4fac8>"
      ]
     },
     "metadata": {},
     "output_type": "display_data"
    }
   ],
   "source": [
    "num=30 #seleccionamos las 30 primeras\n",
    "\n",
    "y_pos = arange(num)\n",
    "\n",
    "fig, ax = plt.subplots() \n",
    "bars=ax.bar(y_pos, df_hurst.Hurst[:num])\n",
    "ax.set_xticks(y_pos)\n",
    "\n",
    "xlabels=ax.set_xticklabels(df_hurst.symbol[:num], size=num, fontdict={'fontsize':12})\n",
    "\n",
    "ax.axhline(0.5,  color='r', linestyle='dashed', linewidth=2)\n",
    "\n",
    "for bar in bars:\n",
    "    height = bar.get_height()\n",
    "    ax.text(bar.get_x() + bar.get_width()/2., 1.0*height,\n",
    "            '%f2' % height,\n",
    "            ha='center', va='bottom', color='k', size=8)"
   ]
  },
  {
   "cell_type": "markdown",
   "metadata": {},
   "source": [
    "Como algunos valores comenzarón a cotizar posteriormente a la fecha que hemos definido como inicio, tienen menos barras diarias. Vamos a desestimar esos valores para el analisis por no ser homogeneo su calculo. El resto los ordenamos descendentemente según el valor de Hurst."
   ]
  },
  {
   "cell_type": "code",
   "execution_count": 20,
   "metadata": {
    "collapsed": false,
    "scrolled": true
   },
   "outputs": [
    {
     "data": {
      "text/html": [
       "<div>\n",
       "<style scoped>\n",
       "    .dataframe tbody tr th:only-of-type {\n",
       "        vertical-align: middle;\n",
       "    }\n",
       "\n",
       "    .dataframe tbody tr th {\n",
       "        vertical-align: top;\n",
       "    }\n",
       "\n",
       "    .dataframe thead th {\n",
       "        text-align: right;\n",
       "    }\n",
       "</style>\n",
       "<table border=\"1\" class=\"dataframe\">\n",
       "  <thead>\n",
       "    <tr style=\"text-align: right;\">\n",
       "      <th></th>\n",
       "      <th>company</th>\n",
       "      <th>headquarters</th>\n",
       "      <th>industry</th>\n",
       "      <th>sector</th>\n",
       "      <th>symbol</th>\n",
       "      <th>Hurst</th>\n",
       "      <th>Num datos</th>\n",
       "    </tr>\n",
       "  </thead>\n",
       "  <tbody>\n",
       "    <tr>\n",
       "      <th>162</th>\n",
       "      <td>DXC Technology</td>\n",
       "      <td>Tysons Corner, Virginia</td>\n",
       "      <td>IT Consulting &amp; Other Services</td>\n",
       "      <td>Information Technology</td>\n",
       "      <td>DXC</td>\n",
       "      <td>0.711385</td>\n",
       "      <td>3637</td>\n",
       "    </tr>\n",
       "    <tr>\n",
       "      <th>116</th>\n",
       "      <td>Citigroup Inc.</td>\n",
       "      <td>New York, New York</td>\n",
       "      <td>Diversified Banks</td>\n",
       "      <td>Financials</td>\n",
       "      <td>C</td>\n",
       "      <td>0.699077</td>\n",
       "      <td>3637</td>\n",
       "    </tr>\n",
       "    <tr>\n",
       "      <th>351</th>\n",
       "      <td>Nvidia Corporation</td>\n",
       "      <td>Santa Clara, California</td>\n",
       "      <td>Semiconductors</td>\n",
       "      <td>Information Technology</td>\n",
       "      <td>NVDA</td>\n",
       "      <td>0.693917</td>\n",
       "      <td>3637</td>\n",
       "    </tr>\n",
       "    <tr>\n",
       "      <th>35</th>\n",
       "      <td>American International Group, Inc.</td>\n",
       "      <td>New York, New York</td>\n",
       "      <td>Property &amp; Casualty Insurance</td>\n",
       "      <td>Financials</td>\n",
       "      <td>AIG</td>\n",
       "      <td>0.677378</td>\n",
       "      <td>3637</td>\n",
       "    </tr>\n",
       "    <tr>\n",
       "      <th>163</th>\n",
       "      <td>E*Trade</td>\n",
       "      <td>New York, New York</td>\n",
       "      <td>Investment Banking &amp; Brokerage</td>\n",
       "      <td>Financials</td>\n",
       "      <td>ETFC</td>\n",
       "      <td>0.669651</td>\n",
       "      <td>3637</td>\n",
       "    </tr>\n",
       "    <tr>\n",
       "      <th>131</th>\n",
       "      <td>Constellation Brands</td>\n",
       "      <td>Victor, New York</td>\n",
       "      <td>Distillers &amp; Vintners</td>\n",
       "      <td>Consumer Staples</td>\n",
       "      <td>STZ</td>\n",
       "      <td>0.664789</td>\n",
       "      <td>3637</td>\n",
       "    </tr>\n",
       "    <tr>\n",
       "      <th>462</th>\n",
       "      <td>United Health Group Inc.</td>\n",
       "      <td>Minnetonka, Minnesota</td>\n",
       "      <td>Managed Health Care</td>\n",
       "      <td>Health Care</td>\n",
       "      <td>UNH</td>\n",
       "      <td>0.649895</td>\n",
       "      <td>3637</td>\n",
       "    </tr>\n",
       "    <tr>\n",
       "      <th>274</th>\n",
       "      <td>KeyCorp</td>\n",
       "      <td>Cleveland, Ohio</td>\n",
       "      <td>Regional Banks</td>\n",
       "      <td>Financials</td>\n",
       "      <td>KEY</td>\n",
       "      <td>0.649024</td>\n",
       "      <td>3637</td>\n",
       "    </tr>\n",
       "    <tr>\n",
       "      <th>398</th>\n",
       "      <td>Regions Financial Corp.</td>\n",
       "      <td>Birmingham, Alabama</td>\n",
       "      <td>Regional Banks</td>\n",
       "      <td>Financials</td>\n",
       "      <td>RF</td>\n",
       "      <td>0.647790</td>\n",
       "      <td>3637</td>\n",
       "    </tr>\n",
       "    <tr>\n",
       "      <th>313</th>\n",
       "      <td>MGM Resorts International</td>\n",
       "      <td>Paradise, Nevada</td>\n",
       "      <td>Casinos &amp; Gaming</td>\n",
       "      <td>Consumer Discretionary</td>\n",
       "      <td>MGM</td>\n",
       "      <td>0.639052</td>\n",
       "      <td>3637</td>\n",
       "    </tr>\n",
       "  </tbody>\n",
       "</table>\n",
       "</div>"
      ],
      "text/plain": [
       "                                company             headquarters  \\\n",
       "162                      DXC Technology  Tysons Corner, Virginia   \n",
       "116                      Citigroup Inc.       New York, New York   \n",
       "351                  Nvidia Corporation  Santa Clara, California   \n",
       "35   American International Group, Inc.       New York, New York   \n",
       "163                             E*Trade       New York, New York   \n",
       "131                Constellation Brands         Victor, New York   \n",
       "462            United Health Group Inc.    Minnetonka, Minnesota   \n",
       "274                             KeyCorp          Cleveland, Ohio   \n",
       "398             Regions Financial Corp.      Birmingham, Alabama   \n",
       "313           MGM Resorts International         Paradise, Nevada   \n",
       "\n",
       "                           industry                  sector symbol     Hurst  \\\n",
       "162  IT Consulting & Other Services  Information Technology    DXC  0.711385   \n",
       "116               Diversified Banks              Financials      C  0.699077   \n",
       "351                  Semiconductors  Information Technology   NVDA  0.693917   \n",
       "35    Property & Casualty Insurance              Financials    AIG  0.677378   \n",
       "163  Investment Banking & Brokerage              Financials   ETFC  0.669651   \n",
       "131           Distillers & Vintners        Consumer Staples    STZ  0.664789   \n",
       "462             Managed Health Care             Health Care    UNH  0.649895   \n",
       "274                  Regional Banks              Financials    KEY  0.649024   \n",
       "398                  Regional Banks              Financials     RF  0.647790   \n",
       "313                Casinos & Gaming  Consumer Discretionary    MGM  0.639052   \n",
       "\n",
       "     Num datos  \n",
       "162       3637  \n",
       "116       3637  \n",
       "351       3637  \n",
       "35        3637  \n",
       "163       3637  \n",
       "131       3637  \n",
       "462       3637  \n",
       "274       3637  \n",
       "398       3637  \n",
       "313       3637  "
      ]
     },
     "execution_count": 20,
     "metadata": {},
     "output_type": "execute_result"
    }
   ],
   "source": [
    "muestra=df_hurst[df_hurst['Num datos']==3637].sort_values(by='Hurst', ascending=False)\n",
    "muestra[:10] # visualizamos las 10 primeras"
   ]
  },
  {
   "cell_type": "markdown",
   "metadata": {},
   "source": [
    "Para ver como se distribuye la muestra de valores que hemos tomado, generamos un histiograma.\n",
    "\n",
    "Marcamos los valores de corte 0,45 y 0,55.  Los que se encuentran entre esos valores podemos considerar su cotización sigue un movimiento browniano."
   ]
  },
  {
   "cell_type": "code",
   "execution_count": 21,
   "metadata": {
    "collapsed": false,
    "scrolled": false
   },
   "outputs": [
    {
     "data": {
      "text/plain": [
       "<matplotlib.lines.Line2D at 0x7f552d6d2080>"
      ]
     },
     "execution_count": 21,
     "metadata": {},
     "output_type": "execute_result"
    },
    {
     "data": {
      "image/png": "[encoded data removed]",
      "text/plain": [
       "<matplotlib.figure.Figure at 0x7f55661519e8>"
      ]
     },
     "metadata": {},
     "output_type": "display_data"
    }
   ],
   "source": [
    "muestra.Hurst.hist(bins=25)\n",
    "plt.axvline(0.55,  color='r', linestyle='dashed', linewidth=2)\n",
    "plt.axvline(0.45,  color='r', linestyle='dashed', linewidth=2)"
   ]
  },
  {
   "cell_type": "markdown",
   "metadata": {},
   "source": [
    "Veamos el analisis de los valores agrupados por Industria."
   ]
  },
  {
   "cell_type": "code",
   "execution_count": 22,
   "metadata": {
    "collapsed": false
   },
   "outputs": [],
   "source": [
    "industrias=muestra.groupby('industry')['Hurst'].mean() # calculamos la media de los valores de Hurst"
   ]
  },
  {
   "cell_type": "code",
   "execution_count": 23,
   "metadata": {
    "collapsed": false,
    "scrolled": true
   },
   "outputs": [
    {
     "data": {
      "text/plain": [
       "industry\n",
       "Distillers & Vintners                  0.664789\n",
       "Diversified Support Services           0.636793\n",
       "Casinos & Gaming                       0.612739\n",
       "Food Retail                            0.575678\n",
       "Home Entertainment Software            0.572328\n",
       "Environmental & Facilities Services    0.563828\n",
       "Property & Casualty Insurance          0.558602\n",
       "Aerospace & Defense                    0.557413\n",
       "Semiconductor Equipment                0.557152\n",
       "Financial Exchanges & Data             0.555994\n",
       "Regional Banks                         0.554927\n",
       "Auto Parts & Equipment                 0.542854\n",
       "Name: Hurst, dtype: float64"
      ]
     },
     "execution_count": 23,
     "metadata": {},
     "output_type": "execute_result"
    }
   ],
   "source": [
    "industrias.sort_values(ascending=False)[:12] # vusualizamos los 12 primeros"
   ]
  },
  {
   "cell_type": "markdown",
   "metadata": {},
   "source": [
    "Veamos la media por industria del exponente de Hurst de forma gráfica"
   ]
  },
  {
   "cell_type": "code",
   "execution_count": 24,
   "metadata": {
    "collapsed": false,
    "scrolled": true
   },
   "outputs": [
    {
     "data": {
      "text/plain": [
       "<matplotlib.axes._subplots.AxesSubplot at 0x7f552d62eb70>"
      ]
     },
     "execution_count": 24,
     "metadata": {},
     "output_type": "execute_result"
    },
    {
     "data": {
      "image/png": "[encoded data removed]",
      "text/plain": [
       "<matplotlib.figure.Figure at 0x7f552d6268d0>"
      ]
     },
     "metadata": {},
     "output_type": "display_data"
    }
   ],
   "source": [
    "industrias.plot.bar() # visualización gráfica"
   ]
  },
  {
   "cell_type": "markdown",
   "metadata": {},
   "source": [
    "Ordenamos las industras descendéntemente según el indice de Hurst, es decir de mas a menos tendenciales, incluyendo el número de valores que se incluye en cada industria dentro del SP500."
   ]
  },
  {
   "cell_type": "code",
   "execution_count": 26,
   "metadata": {
    "collapsed": false
   },
   "outputs": [
    {
     "data": {
      "text/html": [
       "<div>\n",
       "<style scoped>\n",
       "    .dataframe tbody tr th:only-of-type {\n",
       "        vertical-align: middle;\n",
       "    }\n",
       "\n",
       "    .dataframe tbody tr th {\n",
       "        vertical-align: top;\n",
       "    }\n",
       "\n",
       "    .dataframe thead th {\n",
       "        text-align: right;\n",
       "    }\n",
       "</style>\n",
       "<table border=\"1\" class=\"dataframe\">\n",
       "  <thead>\n",
       "    <tr style=\"text-align: right;\">\n",
       "      <th></th>\n",
       "      <th>Hurst</th>\n",
       "      <th>Num Valores</th>\n",
       "    </tr>\n",
       "    <tr>\n",
       "      <th>industry</th>\n",
       "      <th></th>\n",
       "      <th></th>\n",
       "    </tr>\n",
       "  </thead>\n",
       "  <tbody>\n",
       "    <tr>\n",
       "      <th>Distillers &amp; Vintners</th>\n",
       "      <td>0.664789</td>\n",
       "      <td>1</td>\n",
       "    </tr>\n",
       "    <tr>\n",
       "      <th>Diversified Support Services</th>\n",
       "      <td>0.636793</td>\n",
       "      <td>1</td>\n",
       "    </tr>\n",
       "    <tr>\n",
       "      <th>Casinos &amp; Gaming</th>\n",
       "      <td>0.612739</td>\n",
       "      <td>2</td>\n",
       "    </tr>\n",
       "    <tr>\n",
       "      <th>Food Retail</th>\n",
       "      <td>0.575678</td>\n",
       "      <td>1</td>\n",
       "    </tr>\n",
       "    <tr>\n",
       "      <th>Home Entertainment Software</th>\n",
       "      <td>0.572328</td>\n",
       "      <td>3</td>\n",
       "    </tr>\n",
       "    <tr>\n",
       "      <th>Environmental &amp; Facilities Services</th>\n",
       "      <td>0.563828</td>\n",
       "      <td>2</td>\n",
       "    </tr>\n",
       "    <tr>\n",
       "      <th>Property &amp; Casualty Insurance</th>\n",
       "      <td>0.558602</td>\n",
       "      <td>8</td>\n",
       "    </tr>\n",
       "    <tr>\n",
       "      <th>Aerospace &amp; Defense</th>\n",
       "      <td>0.557413</td>\n",
       "      <td>10</td>\n",
       "    </tr>\n",
       "    <tr>\n",
       "      <th>Semiconductor Equipment</th>\n",
       "      <td>0.557152</td>\n",
       "      <td>3</td>\n",
       "    </tr>\n",
       "    <tr>\n",
       "      <th>Financial Exchanges &amp; Data</th>\n",
       "      <td>0.555994</td>\n",
       "      <td>4</td>\n",
       "    </tr>\n",
       "    <tr>\n",
       "      <th>Regional Banks</th>\n",
       "      <td>0.554927</td>\n",
       "      <td>10</td>\n",
       "    </tr>\n",
       "    <tr>\n",
       "      <th>Auto Parts &amp; Equipment</th>\n",
       "      <td>0.542854</td>\n",
       "      <td>1</td>\n",
       "    </tr>\n",
       "    <tr>\n",
       "      <th>Drug Retail</th>\n",
       "      <td>0.540086</td>\n",
       "      <td>2</td>\n",
       "    </tr>\n",
       "    <tr>\n",
       "      <th>Publishing</th>\n",
       "      <td>0.539362</td>\n",
       "      <td>2</td>\n",
       "    </tr>\n",
       "    <tr>\n",
       "      <th>Multi-line Insurance</th>\n",
       "      <td>0.537984</td>\n",
       "      <td>2</td>\n",
       "    </tr>\n",
       "    <tr>\n",
       "      <th>Managed Health Care</th>\n",
       "      <td>0.536430</td>\n",
       "      <td>6</td>\n",
       "    </tr>\n",
       "    <tr>\n",
       "      <th>Internet &amp; Direct Marketing Retail</th>\n",
       "      <td>0.535472</td>\n",
       "      <td>1</td>\n",
       "    </tr>\n",
       "    <tr>\n",
       "      <th>Hotel &amp; Resort REITs</th>\n",
       "      <td>0.535355</td>\n",
       "      <td>1</td>\n",
       "    </tr>\n",
       "    <tr>\n",
       "      <th>Industrial REITs</th>\n",
       "      <td>0.531290</td>\n",
       "      <td>2</td>\n",
       "    </tr>\n",
       "    <tr>\n",
       "      <th>Paper Packaging</th>\n",
       "      <td>0.529450</td>\n",
       "      <td>4</td>\n",
       "    </tr>\n",
       "    <tr>\n",
       "      <th>Trading Companies &amp; Distributors</th>\n",
       "      <td>0.527849</td>\n",
       "      <td>1</td>\n",
       "    </tr>\n",
       "    <tr>\n",
       "      <th>Technology Hardware, Storage &amp; Peripherals</th>\n",
       "      <td>0.526153</td>\n",
       "      <td>4</td>\n",
       "    </tr>\n",
       "    <tr>\n",
       "      <th>Industrial Conglomerates</th>\n",
       "      <td>0.524190</td>\n",
       "      <td>4</td>\n",
       "    </tr>\n",
       "    <tr>\n",
       "      <th>Hotels, Resorts &amp; Cruise Lines</th>\n",
       "      <td>0.523208</td>\n",
       "      <td>3</td>\n",
       "    </tr>\n",
       "    <tr>\n",
       "      <th>Diversified Banks</th>\n",
       "      <td>0.523016</td>\n",
       "      <td>6</td>\n",
       "    </tr>\n",
       "    <tr>\n",
       "      <th>Data Processing &amp; Outsourced Services</th>\n",
       "      <td>0.522873</td>\n",
       "      <td>2</td>\n",
       "    </tr>\n",
       "    <tr>\n",
       "      <th>Department Stores</th>\n",
       "      <td>0.517485</td>\n",
       "      <td>2</td>\n",
       "    </tr>\n",
       "    <tr>\n",
       "      <th>Investment Banking &amp; Brokerage</th>\n",
       "      <td>0.517083</td>\n",
       "      <td>5</td>\n",
       "    </tr>\n",
       "    <tr>\n",
       "      <th>Independent Power Producers &amp; Energy Traders</th>\n",
       "      <td>0.513644</td>\n",
       "      <td>2</td>\n",
       "    </tr>\n",
       "    <tr>\n",
       "      <th>Life Sciences Tools &amp; Services</th>\n",
       "      <td>0.508266</td>\n",
       "      <td>2</td>\n",
       "    </tr>\n",
       "    <tr>\n",
       "      <th>...</th>\n",
       "      <td>...</td>\n",
       "      <td>...</td>\n",
       "    </tr>\n",
       "    <tr>\n",
       "      <th>Apparel Retail</th>\n",
       "      <td>0.439495</td>\n",
       "      <td>4</td>\n",
       "    </tr>\n",
       "    <tr>\n",
       "      <th>Household Appliances</th>\n",
       "      <td>0.438227</td>\n",
       "      <td>3</td>\n",
       "    </tr>\n",
       "    <tr>\n",
       "      <th>Specialty Stores</th>\n",
       "      <td>0.437675</td>\n",
       "      <td>5</td>\n",
       "    </tr>\n",
       "    <tr>\n",
       "      <th>Construction &amp; Engineering</th>\n",
       "      <td>0.436603</td>\n",
       "      <td>3</td>\n",
       "    </tr>\n",
       "    <tr>\n",
       "      <th>Construction Materials</th>\n",
       "      <td>0.435856</td>\n",
       "      <td>2</td>\n",
       "    </tr>\n",
       "    <tr>\n",
       "      <th>Health Care Facilities</th>\n",
       "      <td>0.433801</td>\n",
       "      <td>2</td>\n",
       "    </tr>\n",
       "    <tr>\n",
       "      <th>Specialized REITs</th>\n",
       "      <td>0.431946</td>\n",
       "      <td>7</td>\n",
       "    </tr>\n",
       "    <tr>\n",
       "      <th>Industrial Gases</th>\n",
       "      <td>0.430301</td>\n",
       "      <td>2</td>\n",
       "    </tr>\n",
       "    <tr>\n",
       "      <th>Gold</th>\n",
       "      <td>0.428322</td>\n",
       "      <td>1</td>\n",
       "    </tr>\n",
       "    <tr>\n",
       "      <th>Research &amp; Consulting Services</th>\n",
       "      <td>0.423937</td>\n",
       "      <td>1</td>\n",
       "    </tr>\n",
       "    <tr>\n",
       "      <th>Packaged Foods &amp; Meats</th>\n",
       "      <td>0.422774</td>\n",
       "      <td>10</td>\n",
       "    </tr>\n",
       "    <tr>\n",
       "      <th>Integrated Oil &amp; Gas</th>\n",
       "      <td>0.422254</td>\n",
       "      <td>3</td>\n",
       "    </tr>\n",
       "    <tr>\n",
       "      <th>Thrifts &amp; Mortgage Finance</th>\n",
       "      <td>0.419634</td>\n",
       "      <td>1</td>\n",
       "    </tr>\n",
       "    <tr>\n",
       "      <th>Integrated Telecommunication Services</th>\n",
       "      <td>0.412738</td>\n",
       "      <td>3</td>\n",
       "    </tr>\n",
       "    <tr>\n",
       "      <th>Electric Utilities</th>\n",
       "      <td>0.412582</td>\n",
       "      <td>11</td>\n",
       "    </tr>\n",
       "    <tr>\n",
       "      <th>Air Freight &amp; Logistics</th>\n",
       "      <td>0.405336</td>\n",
       "      <td>4</td>\n",
       "    </tr>\n",
       "    <tr>\n",
       "      <th>Agricultural Products</th>\n",
       "      <td>0.400101</td>\n",
       "      <td>1</td>\n",
       "    </tr>\n",
       "    <tr>\n",
       "      <th>Personal Products</th>\n",
       "      <td>0.399238</td>\n",
       "      <td>2</td>\n",
       "    </tr>\n",
       "    <tr>\n",
       "      <th>Oil &amp; Gas Drilling</th>\n",
       "      <td>0.396052</td>\n",
       "      <td>1</td>\n",
       "    </tr>\n",
       "    <tr>\n",
       "      <th>Metal &amp; Glass Containers</th>\n",
       "      <td>0.395015</td>\n",
       "      <td>1</td>\n",
       "    </tr>\n",
       "    <tr>\n",
       "      <th>Soft Drinks</th>\n",
       "      <td>0.392031</td>\n",
       "      <td>3</td>\n",
       "    </tr>\n",
       "    <tr>\n",
       "      <th>Steel</th>\n",
       "      <td>0.388558</td>\n",
       "      <td>1</td>\n",
       "    </tr>\n",
       "    <tr>\n",
       "      <th>Household Products</th>\n",
       "      <td>0.387247</td>\n",
       "      <td>4</td>\n",
       "    </tr>\n",
       "    <tr>\n",
       "      <th>Hypermarkets &amp; Super Centers</th>\n",
       "      <td>0.382068</td>\n",
       "      <td>2</td>\n",
       "    </tr>\n",
       "    <tr>\n",
       "      <th>Health Care Technology</th>\n",
       "      <td>0.371139</td>\n",
       "      <td>1</td>\n",
       "    </tr>\n",
       "    <tr>\n",
       "      <th>Health Care Services</th>\n",
       "      <td>0.352164</td>\n",
       "      <td>1</td>\n",
       "    </tr>\n",
       "    <tr>\n",
       "      <th>Trucking</th>\n",
       "      <td>0.345321</td>\n",
       "      <td>1</td>\n",
       "    </tr>\n",
       "    <tr>\n",
       "      <th>General Merchandise Stores</th>\n",
       "      <td>0.337493</td>\n",
       "      <td>3</td>\n",
       "    </tr>\n",
       "    <tr>\n",
       "      <th>Health Care REITs</th>\n",
       "      <td>0.335818</td>\n",
       "      <td>2</td>\n",
       "    </tr>\n",
       "    <tr>\n",
       "      <th>Distributors</th>\n",
       "      <td>0.318728</td>\n",
       "      <td>1</td>\n",
       "    </tr>\n",
       "  </tbody>\n",
       "</table>\n",
       "<p>116 rows × 2 columns</p>\n",
       "</div>"
      ],
      "text/plain": [
       "                                                 Hurst  Num Valores\n",
       "industry                                                           \n",
       "Distillers & Vintners                         0.664789            1\n",
       "Diversified Support Services                  0.636793            1\n",
       "Casinos & Gaming                              0.612739            2\n",
       "Food Retail                                   0.575678            1\n",
       "Home Entertainment Software                   0.572328            3\n",
       "Environmental & Facilities Services           0.563828            2\n",
       "Property & Casualty Insurance                 0.558602            8\n",
       "Aerospace & Defense                           0.557413           10\n",
       "Semiconductor Equipment                       0.557152            3\n",
       "Financial Exchanges & Data                    0.555994            4\n",
       "Regional Banks                                0.554927           10\n",
       "Auto Parts & Equipment                        0.542854            1\n",
       "Drug Retail                                   0.540086            2\n",
       "Publishing                                    0.539362            2\n",
       "Multi-line Insurance                          0.537984            2\n",
       "Managed Health Care                           0.536430            6\n",
       "Internet & Direct Marketing Retail            0.535472            1\n",
       "Hotel & Resort REITs                          0.535355            1\n",
       "Industrial REITs                              0.531290            2\n",
       "Paper Packaging                               0.529450            4\n",
       "Trading Companies & Distributors              0.527849            1\n",
       "Technology Hardware, Storage & Peripherals    0.526153            4\n",
       "Industrial Conglomerates                      0.524190            4\n",
       "Hotels, Resorts & Cruise Lines                0.523208            3\n",
       "Diversified Banks                             0.523016            6\n",
       "Data Processing & Outsourced Services         0.522873            2\n",
       "Department Stores                             0.517485            2\n",
       "Investment Banking & Brokerage                0.517083            5\n",
       "Independent Power Producers & Energy Traders  0.513644            2\n",
       "Life Sciences Tools & Services                0.508266            2\n",
       "...                                                ...          ...\n",
       "Apparel Retail                                0.439495            4\n",
       "Household Appliances                          0.438227            3\n",
       "Specialty Stores                              0.437675            5\n",
       "Construction & Engineering                    0.436603            3\n",
       "Construction Materials                        0.435856            2\n",
       "Health Care Facilities                        0.433801            2\n",
       "Specialized REITs                             0.431946            7\n",
       "Industrial Gases                              0.430301            2\n",
       "Gold                                          0.428322            1\n",
       "Research & Consulting Services                0.423937            1\n",
       "Packaged Foods & Meats                        0.422774           10\n",
       "Integrated Oil & Gas                          0.422254            3\n",
       "Thrifts & Mortgage Finance                    0.419634            1\n",
       "Integrated Telecommunication Services         0.412738            3\n",
       "Electric Utilities                            0.412582           11\n",
       "Air Freight & Logistics                       0.405336            4\n",
       "Agricultural Products                         0.400101            1\n",
       "Personal Products                             0.399238            2\n",
       "Oil & Gas Drilling                            0.396052            1\n",
       "Metal & Glass Containers                      0.395015            1\n",
       "Soft Drinks                                   0.392031            3\n",
       "Steel                                         0.388558            1\n",
       "Household Products                            0.387247            4\n",
       "Hypermarkets & Super Centers                  0.382068            2\n",
       "Health Care Technology                        0.371139            1\n",
       "Health Care Services                          0.352164            1\n",
       "Trucking                                      0.345321            1\n",
       "General Merchandise Stores                    0.337493            3\n",
       "Health Care REITs                             0.335818            2\n",
       "Distributors                                  0.318728            1\n",
       "\n",
       "[116 rows x 2 columns]"
      ]
     },
     "execution_count": 26,
     "metadata": {},
     "output_type": "execute_result"
    }
   ],
   "source": [
    "industrias=pd.DataFrame(industrias).sort_values('Hurst',ascending=False)\n",
    "industrias['Num Valores']=muestra.groupby('industry')['Hurst'].count()\n",
    "industrias"
   ]
  },
  {
   "cell_type": "markdown",
   "metadata": {},
   "source": [
    "---"
   ]
  },
  {
   "cell_type": "markdown",
   "metadata": {},
   "source": [
    "## Selección y guardado de los datos de los valores mas tendenciales"
   ]
  },
  {
   "cell_type": "markdown",
   "metadata": {},
   "source": [
    "Finalmente seleccionamos aquellos valores que se muestran mas tendenciales o persistentes, es decir aquellos cuyo calculo del exponente de Hurst a resultado mayor que 0,55.\n",
    "\n",
    "Estos valores los utilizaremos en el siguiente notebook del estudio, por lo que los guardamos en un archivo CSV para su posterior utilización."
   ]
  },
  {
   "cell_type": "code",
   "execution_count": 28,
   "metadata": {
    "collapsed": false
   },
   "outputs": [
    {
     "name": "stdout",
     "output_type": "stream",
     "text": [
      "Número de valores seleccionados : 73\n"
     ]
    }
   ],
   "source": [
    "seleccion=muestra[muestra.Hurst>0.55]\n",
    "print('Número de valores seleccionados : {}'.format (seleccion.shape[0]))"
   ]
  },
  {
   "cell_type": "code",
   "execution_count": 29,
   "metadata": {
    "collapsed": false
   },
   "outputs": [],
   "source": [
    "seleccion.to_csv('seleccion muestra sp500.csv')"
   ]
  },
  {
   "cell_type": "markdown",
   "metadata": {},
   "source": [
    "---"
   ]
  }
 ],
 "metadata": {
  "kernelspec": {
   "display_name": "Python [conda env:mypython3]",
   "language": "python",
   "name": "conda-env-mypython3-py"
  },
  "language_info": {
   "codemirror_mode": {
    "name": "ipython",
    "version": 3
   },
   "file_extension": ".py",
   "mimetype": "text/x-python",
   "name": "python",
   "nbconvert_exporter": "python",
   "pygments_lexer": "ipython3",
   "version": "3.6.3"
  }
 },
 "nbformat": 4,
 "nbformat_minor": 2
}
